{
 "cells": [
  {
   "cell_type": "code",
   "execution_count": 1,
   "id": "8ebda670",
   "metadata": {},
   "outputs": [
    {
     "name": "stdout",
     "output_type": "stream",
     "text": [
      "3.11.3 (main, Apr  7 2023, 20:13:31) [Clang 14.0.0 (clang-1400.0.29.202)]\n"
     ]
    }
   ],
   "source": [
    "import sys\n",
    "print(sys.version)"
   ]
  },
  {
   "cell_type": "code",
   "execution_count": 2,
   "id": "227c5cd5",
   "metadata": {},
   "outputs": [
    {
     "name": "stdout",
     "output_type": "stream",
     "text": [
      "--------Version info---------\n",
      "Polars:      0.17.14\n",
      "Index type:  UInt32\n",
      "Platform:    macOS-13.3.1-arm64-arm-64bit\n",
      "Python:      3.11.3 (main, Apr  7 2023, 20:13:31) [Clang 14.0.0 (clang-1400.0.29.202)]\n",
      "\n",
      "----Optional dependencies----\n",
      "numpy:       1.24.3\n",
      "pandas:      2.0.1\n",
      "pyarrow:     <not installed>\n",
      "connectorx:  <not installed>\n",
      "deltalake:   <not installed>\n",
      "fsspec:      <not installed>\n",
      "matplotlib:  3.7.1\n",
      "xlsx2csv:    <not installed>\n",
      "xlsxwriter:  <not installed>\n"
     ]
    }
   ],
   "source": [
    "import polars as pl\n",
    "pl.show_versions()"
   ]
  },
  {
   "cell_type": "code",
   "execution_count": 3,
   "id": "d431f7e7",
   "metadata": {},
   "outputs": [
    {
     "data": {
      "text/plain": [
       "12"
      ]
     },
     "execution_count": 3,
     "metadata": {},
     "output_type": "execute_result"
    }
   ],
   "source": [
    "pl.threadpool_size()"
   ]
  },
  {
   "cell_type": "code",
   "execution_count": 4,
   "id": "0789fda9",
   "metadata": {},
   "outputs": [],
   "source": [
    "data = pl.read_csv('data/ds_salaries.csv')"
   ]
  },
  {
   "cell_type": "code",
   "execution_count": 5,
   "id": "043d28af",
   "metadata": {},
   "outputs": [
    {
     "name": "stdout",
     "output_type": "stream",
     "text": [
      "shape: (5, 11)\n",
      "┌─────────┬────────────┬────────────┬─────────┬───┬────────────┬────────────┬────────────┬────────────┐\n",
      "│ work_ye ┆ experience ┆ employment ┆ job_tit ┆ … ┆ employee_r ┆ remote_rat ┆ company_lo ┆ company_si │\n",
      "│ ar      ┆ _level     ┆ _type      ┆ le      ┆   ┆ esidence   ┆ io         ┆ cation     ┆ ze         │\n",
      "│ ---     ┆ ---        ┆ ---        ┆ ---     ┆   ┆ ---        ┆ ---        ┆ ---        ┆ ---        │\n",
      "│ i64     ┆ str        ┆ str        ┆ str     ┆   ┆ str        ┆ i64        ┆ str        ┆ str        │\n",
      "╞═════════╪════════════╪════════════╪═════════╪═══╪════════════╪════════════╪════════════╪════════════╡\n",
      "│ 2023    ┆ SE         ┆ FT         ┆ Princip ┆ … ┆ ES         ┆ 100        ┆ ES         ┆ L          │\n",
      "│         ┆            ┆            ┆ al Data ┆   ┆            ┆            ┆            ┆            │\n",
      "│         ┆            ┆            ┆ Scienti ┆   ┆            ┆            ┆            ┆            │\n",
      "│         ┆            ┆            ┆ st      ┆   ┆            ┆            ┆            ┆            │\n",
      "│ 2023    ┆ MI         ┆ CT         ┆ ML Engi ┆ … ┆ US         ┆ 100        ┆ US         ┆ S          │\n",
      "│         ┆            ┆            ┆ neer    ┆   ┆            ┆            ┆            ┆            │\n",
      "│ 2023    ┆ MI         ┆ CT         ┆ ML Engi ┆ … ┆ US         ┆ 100        ┆ US         ┆ S          │\n",
      "│         ┆            ┆            ┆ neer    ┆   ┆            ┆            ┆            ┆            │\n",
      "│ 2023    ┆ SE         ┆ FT         ┆ Data    ┆ … ┆ CA         ┆ 100        ┆ CA         ┆ M          │\n",
      "│         ┆            ┆            ┆ Scienti ┆   ┆            ┆            ┆            ┆            │\n",
      "│         ┆            ┆            ┆ st      ┆   ┆            ┆            ┆            ┆            │\n",
      "│ 2023    ┆ SE         ┆ FT         ┆ Data    ┆ … ┆ CA         ┆ 100        ┆ CA         ┆ M          │\n",
      "│         ┆            ┆            ┆ Scienti ┆   ┆            ┆            ┆            ┆            │\n",
      "│         ┆            ┆            ┆ st      ┆   ┆            ┆            ┆            ┆            │\n",
      "└─────────┴────────────┴────────────┴─────────┴───┴────────────┴────────────┴────────────┴────────────┘\n"
     ]
    }
   ],
   "source": [
    "print(data.head())"
   ]
  },
  {
   "cell_type": "code",
   "execution_count": null,
   "id": "b478fd08",
   "metadata": {},
   "outputs": [],
   "source": []
  }
 ],
 "metadata": {
  "kernelspec": {
   "display_name": "Python 3 (ipykernel)",
   "language": "python",
   "name": "python3"
  },
  "language_info": {
   "codemirror_mode": {
    "name": "ipython",
    "version": 3
   },
   "file_extension": ".py",
   "mimetype": "text/x-python",
   "name": "python",
   "nbconvert_exporter": "python",
   "pygments_lexer": "ipython3",
   "version": "3.11.3"
  }
 },
 "nbformat": 4,
 "nbformat_minor": 5
}
