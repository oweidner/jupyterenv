{
 "cells": [
  {
   "cell_type": "markdown",
   "id": "5ec1841b",
   "metadata": {},
   "source": [
    "# Polars\n",
    "\n",
    "A fast data frames library as a drop-in (?) replacement for Pandas."
   ]
  },
  {
   "cell_type": "code",
   "execution_count": 2,
   "id": "01f30c0e",
   "metadata": {},
   "outputs": [
    {
     "data": {
      "text/html": [
       "<div><style>\n",
       ".dataframe > thead > tr > th,\n",
       ".dataframe > tbody > tr > td {\n",
       "  text-align: right;\n",
       "}\n",
       "</style>\n",
       "<small>shape: (8, 3)</small><table border=\"1\" class=\"dataframe\"><thead><tr><th>Model</th><th>Sales</th><th>Company</th></tr><tr><td>str</td><td>i64</td><td>str</td></tr></thead><tbody><tr><td>&quot;iPhone X&quot;</td><td>80</td><td>&quot;Apple&quot;</td></tr><tr><td>&quot;iPhone XS&quot;</td><td>170</td><td>&quot;Apple&quot;</td></tr><tr><td>&quot;iPhone 12&quot;</td><td>130</td><td>&quot;Apple&quot;</td></tr><tr><td>&quot;iPhone 13&quot;</td><td>205</td><td>&quot;Apple&quot;</td></tr><tr><td>&quot;Samsung S11&quot;</td><td>400</td><td>&quot;Samsung&quot;</td></tr><tr><td>&quot;Samsung S12&quot;</td><td>30</td><td>&quot;Samsung&quot;</td></tr><tr><td>&quot;Mi A1&quot;</td><td>14</td><td>&quot;Xiao Mi&quot;</td></tr><tr><td>&quot;Mi A2&quot;</td><td>8</td><td>&quot;Xiao Mi&quot;</td></tr></tbody></table></div>"
      ],
      "text/plain": [
       "shape: (8, 3)\n",
       "┌─────────────┬───────┬─────────┐\n",
       "│ Model       ┆ Sales ┆ Company │\n",
       "│ ---         ┆ ---   ┆ ---     │\n",
       "│ str         ┆ i64   ┆ str     │\n",
       "╞═════════════╪═══════╪═════════╡\n",
       "│ iPhone X    ┆ 80    ┆ Apple   │\n",
       "│ iPhone XS   ┆ 170   ┆ Apple   │\n",
       "│ iPhone 12   ┆ 130   ┆ Apple   │\n",
       "│ iPhone 13   ┆ 205   ┆ Apple   │\n",
       "│ Samsung S11 ┆ 400   ┆ Samsung │\n",
       "│ Samsung S12 ┆ 30    ┆ Samsung │\n",
       "│ Mi A1       ┆ 14    ┆ Xiao Mi │\n",
       "│ Mi A2       ┆ 8     ┆ Xiao Mi │\n",
       "└─────────────┴───────┴─────────┘"
      ]
     },
     "execution_count": 2,
     "metadata": {},
     "output_type": "execute_result"
    }
   ],
   "source": [
    "import polars as pl\n",
    "\n",
    "df = pl.DataFrame(\n",
    "     {\n",
    "         'Model': ['iPhone X','iPhone XS','iPhone 12',\n",
    "                   'iPhone 13','Samsung S11','Samsung S12',\n",
    "                   'Mi A1','Mi A2'],\n",
    "         'Sales': [80,170,130,205,400,30,14,8],     \n",
    "         'Company': ['Apple','Apple','Apple','Apple',\n",
    "                     'Samsung','Samsung','Xiao Mi','Xiao Mi'],\n",
    "     }\n",
    ")\n",
    "df"
   ]
  },
  {
   "cell_type": "code",
   "execution_count": 4,
   "id": "22d9034c",
   "metadata": {},
   "outputs": [
    {
     "data": {
      "text/plain": [
       "[Utf8, Int64, Utf8]"
      ]
     },
     "execution_count": 4,
     "metadata": {},
     "output_type": "execute_result"
    }
   ],
   "source": [
    "df.dtypes"
   ]
  },
  {
   "cell_type": "code",
   "execution_count": 5,
   "id": "d9490635",
   "metadata": {},
   "outputs": [
    {
     "data": {
      "text/html": [
       "<div><style>\n",
       ".dataframe > thead > tr > th,\n",
       ".dataframe > tbody > tr > td {\n",
       "  text-align: right;\n",
       "}\n",
       "</style>\n",
       "<small>shape: (8, 2)</small><table border=\"1\" class=\"dataframe\"><thead><tr><th>Model</th><th>Company</th></tr><tr><td>str</td><td>str</td></tr></thead><tbody><tr><td>&quot;iPhone X&quot;</td><td>&quot;Apple&quot;</td></tr><tr><td>&quot;iPhone XS&quot;</td><td>&quot;Apple&quot;</td></tr><tr><td>&quot;iPhone 12&quot;</td><td>&quot;Apple&quot;</td></tr><tr><td>&quot;iPhone 13&quot;</td><td>&quot;Apple&quot;</td></tr><tr><td>&quot;Samsung S11&quot;</td><td>&quot;Samsung&quot;</td></tr><tr><td>&quot;Samsung S12&quot;</td><td>&quot;Samsung&quot;</td></tr><tr><td>&quot;Mi A1&quot;</td><td>&quot;Xiao Mi&quot;</td></tr><tr><td>&quot;Mi A2&quot;</td><td>&quot;Xiao Mi&quot;</td></tr></tbody></table></div>"
      ],
      "text/plain": [
       "shape: (8, 2)\n",
       "┌─────────────┬─────────┐\n",
       "│ Model       ┆ Company │\n",
       "│ ---         ┆ ---     │\n",
       "│ str         ┆ str     │\n",
       "╞═════════════╪═════════╡\n",
       "│ iPhone X    ┆ Apple   │\n",
       "│ iPhone XS   ┆ Apple   │\n",
       "│ iPhone 12   ┆ Apple   │\n",
       "│ iPhone 13   ┆ Apple   │\n",
       "│ Samsung S11 ┆ Samsung │\n",
       "│ Samsung S12 ┆ Samsung │\n",
       "│ Mi A1       ┆ Xiao Mi │\n",
       "│ Mi A2       ┆ Xiao Mi │\n",
       "└─────────────┴─────────┘"
      ]
     },
     "execution_count": 5,
     "metadata": {},
     "output_type": "execute_result"
    }
   ],
   "source": [
    "df.select(\n",
    "    ['Model','Company']\n",
    ")"
   ]
  },
  {
   "cell_type": "code",
   "execution_count": 6,
   "id": "7fe022a2",
   "metadata": {},
   "outputs": [
    {
     "data": {
      "text/html": [
       "<div><style>\n",
       ".dataframe > thead > tr > th,\n",
       ".dataframe > tbody > tr > td {\n",
       "  text-align: right;\n",
       "}\n",
       "</style>\n",
       "<small>shape: (4, 1)</small><table border=\"1\" class=\"dataframe\"><thead><tr><th>Model</th></tr><tr><td>str</td></tr></thead><tbody><tr><td>&quot;iPhone X&quot;</td></tr><tr><td>&quot;iPhone XS&quot;</td></tr><tr><td>&quot;iPhone 12&quot;</td></tr><tr><td>&quot;iPhone 13&quot;</td></tr></tbody></table></div>"
      ],
      "text/plain": [
       "shape: (4, 1)\n",
       "┌───────────┐\n",
       "│ Model     │\n",
       "│ ---       │\n",
       "│ str       │\n",
       "╞═══════════╡\n",
       "│ iPhone X  │\n",
       "│ iPhone XS │\n",
       "│ iPhone 12 │\n",
       "│ iPhone 13 │\n",
       "└───────────┘"
      ]
     },
     "execution_count": 6,
     "metadata": {},
     "output_type": "execute_result"
    }
   ],
   "source": [
    "df.filter(\n",
    "    pl.col('Company') == 'Apple'\n",
    ").select('Model')"
   ]
  },
  {
   "cell_type": "code",
   "execution_count": null,
   "id": "30db4229",
   "metadata": {},
   "outputs": [],
   "source": []
  }
 ],
 "metadata": {
  "kernelspec": {
   "display_name": "Python 3 (ipykernel)",
   "language": "python",
   "name": "python3"
  },
  "language_info": {
   "codemirror_mode": {
    "name": "ipython",
    "version": 3
   },
   "file_extension": ".py",
   "mimetype": "text/x-python",
   "name": "python",
   "nbconvert_exporter": "python",
   "pygments_lexer": "ipython3",
   "version": "3.11.3"
  }
 },
 "nbformat": 4,
 "nbformat_minor": 5
}
